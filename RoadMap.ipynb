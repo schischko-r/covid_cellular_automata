{
 "cells": [
  {
   "cell_type": "markdown",
   "metadata": {},
   "source": [
    "### <u>RULES:</u>\n",
    "\n",
    "*EACH CELL HAS IT'S OWN GENOME IN FORM OF A LIST CONTAINING:*\n",
    "\n",
    "        INDEX   GENOME                          STATUS:         VALUE       \n",
    "        -----   ------                          -------         -----\n",
    "        0       STATUS                          not infected    1  \n",
    "        1       IMMUNITY                        vaccinated      2\n",
    "        2       BEHAVIOUR                       incubation      4 \n",
    "        3       DATE OF INFECTION               infected        5\n",
    "        4       INCUBATION DURATION             recovered       -1\n",
    "        5       INFECTION DURATION              dead            -2 \n",
    "        6       PENALTIES                       empty           None \n",
    "        7       REWARDS                         \n",
    "        8       FAMILY \n",
    "        9       DATE OF DEATH                         \n",
    "\n",
    "ALL CELLS ARE UNVACCINATED AT THE BEGINING\n",
    "CHANCE OF VACCINATION BEGINS AT 5% AND RAISES BY THE RULE V *= sqrt(G), WHERE G IS GENERATION\n",
    "VACCINATED CELLS HAVE LOWER CHANCE OF GETTING INFECTED\n",
    "\n",
    "SOME AMOUNT OF CELLS GET INFECTED DURING 1ST GENERATION\n",
    "INCUBATION PERIOD LASTS FOR 7 GENERATIONS\n",
    "DURING THAT TIME CELLS HAVE LOWER CHANCE OF INFECTING OTHERS\n",
    "\n",
    "ONCE CELL GETS FULLY INFECTED IT HAS 9 ITERATIONS TO RECOVER. \n",
    "DURING THAT PERIOD IT HAS A CONSTANT CHANCE OF DYING DEPENDING ON IT'S IMMUNITY.\n",
    "DURING THAT PERIOD IMMUNITY RAISES\n",
    "\n",
    "ONCE RECOVERED IT HAS \"IMMUNITY\" BUT HAS A CHANCE OF GETTING SICK AGAIN\n",
    "\n",
    "ONCE THE MOVING IS IMPLEMENTED, WE MAY TRY TO RECREATE SOME COMPLEX BEHAVIOUR F.E. SOCIAL DISTANCING\n"
   ]
  },
  {
   "cell_type": "markdown",
   "metadata": {},
   "source": [
    "## Roadmap \n",
    "\n",
    "[v.0.1]\n",
    "- ~~Implement genome~~\n",
    "- ~~Implement incubations~~\n",
    "- ~~Implement infections~~\n",
    "- ~~Impelent dying~~\n",
    "- ~~Implement rewards and penalties~~\n",
    "\n",
    "[v.0.2]\n",
    "- Implement vaccination system and vaccination chance (_BEGINS AT 5% AND RAISES BY THE RULE V *= sqrt(G), WHERE G IS GENERATION_)\n",
    "- Implement behavior system:\n",
    "    * Points of interest\n",
    "    * Pathfinding\n",
    "\n",
    "[v.0.3]\n",
    "- Day/night cycle & corresponding behaviour\n",
    "\n",
    "[v.0.4]\n",
    "- Implement Dash or PyGame"
   ]
  },
  {
   "cell_type": "markdown",
   "metadata": {},
   "source": []
  }
 ],
 "metadata": {
  "language_info": {
   "name": "python"
  },
  "orig_nbformat": 4
 },
 "nbformat": 4,
 "nbformat_minor": 2
}
